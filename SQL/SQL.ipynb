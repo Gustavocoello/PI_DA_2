{
 "cells": [
  {
   "cell_type": "markdown",
   "metadata": {},
   "source": [
    "## MYSQL Database connect with python "
   ]
  },
  {
   "cell_type": "markdown",
   "metadata": {},
   "source": [
    "### Traemos los datos como csv"
   ]
  },
  {
   "cell_type": "code",
   "execution_count": 1,
   "metadata": {},
   "outputs": [],
   "source": [
    "# Importamos pandas\n",
    "import pandas as pd "
   ]
  },
  {
   "cell_type": "code",
   "execution_count": 4,
   "metadata": {},
   "outputs": [],
   "source": [
    "datos1 = (\"Data/provincia.csv\")\n",
    "datos2 = (\"Data/tec_localidad.csv\")\n",
    "datos3 = (\"Data/totales.csv\")\n",
    "datos4 = (\"Data/vel_localidad.csv\")\n",
    "datos5 = (\"Data/velocidad_internet.csv\")\n",
    "datos6 = (\"Data/mapa_conectividad.xlsx\")"
   ]
  },
  {
   "cell_type": "code",
   "execution_count": 5,
   "metadata": {},
   "outputs": [],
   "source": [
    "# Traemos los datos\n",
    "df_prov = pd.read_csv(datos1)\n",
    "df_tec_loc = pd.read_csv(datos2)\n",
    "df_total = pd.read_csv(datos3)\n",
    "df_vel_loc = pd.read_csv(datos4)\n",
    "df_vel_internet = pd.read_csv(datos5)\n",
    "df_mapa = pd.read_excel(datos6)"
   ]
  },
  {
   "cell_type": "code",
   "execution_count": 6,
   "metadata": {},
   "outputs": [],
   "source": [
    "# Convertimos los datos en Dataframe\n",
    "df_prov = pd.DataFrame(df_prov)\n",
    "df_tec_loc = pd.DataFrame(df_tec_loc)\n",
    "df_vel_loc = pd.DataFrame(df_vel_loc)\n",
    "df_vel_internet = pd.DataFrame(df_vel_internet)\n",
    "df_total = pd.DataFrame(df_total)\n",
    "df_mapa = pd.DataFrame(df_mapa)"
   ]
  },
  {
   "cell_type": "code",
   "execution_count": 11,
   "metadata": {},
   "outputs": [
    {
     "data": {
      "text/html": [
       "<div>\n",
       "<style scoped>\n",
       "    .dataframe tbody tr th:only-of-type {\n",
       "        vertical-align: middle;\n",
       "    }\n",
       "\n",
       "    .dataframe tbody tr th {\n",
       "        vertical-align: top;\n",
       "    }\n",
       "\n",
       "    .dataframe thead th {\n",
       "        text-align: right;\n",
       "    }\n",
       "</style>\n",
       "<table border=\"1\" class=\"dataframe\">\n",
       "  <thead>\n",
       "    <tr style=\"text-align: right;\">\n",
       "      <th></th>\n",
       "      <th>Provincia</th>\n",
       "      <th>Partido</th>\n",
       "      <th>Localidad</th>\n",
       "      <th>Link Indec</th>\n",
       "      <th>ADSL</th>\n",
       "      <th>CABLEMODEM</th>\n",
       "      <th>DIAL UP</th>\n",
       "      <th>FIBRA OPTICA</th>\n",
       "      <th>OTROS</th>\n",
       "      <th>SATELITAL</th>\n",
       "      <th>WIMAX</th>\n",
       "      <th>WIRELESS</th>\n",
       "      <th>Total general</th>\n",
       "    </tr>\n",
       "  </thead>\n",
       "  <tbody>\n",
       "    <tr>\n",
       "      <th>0</th>\n",
       "      <td>BUENOS AIRES</td>\n",
       "      <td>25 de Mayo</td>\n",
       "      <td>25 de Mayo</td>\n",
       "      <td>6854100</td>\n",
       "      <td>755</td>\n",
       "      <td>4600</td>\n",
       "      <td>0</td>\n",
       "      <td>2</td>\n",
       "      <td>0</td>\n",
       "      <td>742</td>\n",
       "      <td>0</td>\n",
       "      <td>727</td>\n",
       "      <td>6826</td>\n",
       "    </tr>\n",
       "    <tr>\n",
       "      <th>1</th>\n",
       "      <td>BUENOS AIRES</td>\n",
       "      <td>25 de Mayo</td>\n",
       "      <td>Del Valle</td>\n",
       "      <td>6854020</td>\n",
       "      <td>181</td>\n",
       "      <td>0</td>\n",
       "      <td>0</td>\n",
       "      <td>0</td>\n",
       "      <td>10</td>\n",
       "      <td>1</td>\n",
       "      <td>0</td>\n",
       "      <td>0</td>\n",
       "      <td>192</td>\n",
       "    </tr>\n",
       "    <tr>\n",
       "      <th>2</th>\n",
       "      <td>BUENOS AIRES</td>\n",
       "      <td>25 de Mayo</td>\n",
       "      <td>Gobernador Ugarte</td>\n",
       "      <td>6854040</td>\n",
       "      <td>0</td>\n",
       "      <td>0</td>\n",
       "      <td>0</td>\n",
       "      <td>0</td>\n",
       "      <td>0</td>\n",
       "      <td>0</td>\n",
       "      <td>0</td>\n",
       "      <td>181</td>\n",
       "      <td>181</td>\n",
       "    </tr>\n",
       "    <tr>\n",
       "      <th>3</th>\n",
       "      <td>BUENOS AIRES</td>\n",
       "      <td>25 de Mayo</td>\n",
       "      <td>Norberto de la Riestra</td>\n",
       "      <td>6854060</td>\n",
       "      <td>0</td>\n",
       "      <td>782</td>\n",
       "      <td>0</td>\n",
       "      <td>496</td>\n",
       "      <td>16</td>\n",
       "      <td>0</td>\n",
       "      <td>0</td>\n",
       "      <td>185</td>\n",
       "      <td>1479</td>\n",
       "    </tr>\n",
       "  </tbody>\n",
       "</table>\n",
       "</div>"
      ],
      "text/plain": [
       "      Provincia     Partido               Localidad Link Indec  ADSL  \\\n",
       "0  BUENOS AIRES  25 de Mayo              25 de Mayo    6854100   755   \n",
       "1  BUENOS AIRES  25 de Mayo               Del Valle    6854020   181   \n",
       "2  BUENOS AIRES  25 de Mayo       Gobernador Ugarte    6854040     0   \n",
       "3  BUENOS AIRES  25 de Mayo  Norberto de la Riestra    6854060     0   \n",
       "\n",
       "   CABLEMODEM  DIAL UP  FIBRA OPTICA  OTROS  SATELITAL  WIMAX  WIRELESS  \\\n",
       "0        4600        0             2      0        742      0       727   \n",
       "1           0        0             0     10          1      0         0   \n",
       "2           0        0             0      0          0      0       181   \n",
       "3         782        0           496     16          0      0       185   \n",
       "\n",
       "   Total general  \n",
       "0           6826  \n",
       "1            192  \n",
       "2            181  \n",
       "3           1479  "
      ]
     },
     "execution_count": 11,
     "metadata": {},
     "output_type": "execute_result"
    }
   ],
   "source": [
    "# Solo observemos los datos de localidad y mapa\n",
    "df_tec_loc.head(4)"
   ]
  },
  {
   "cell_type": "code",
   "execution_count": 10,
   "metadata": {},
   "outputs": [
    {
     "data": {
      "text/html": [
       "<div>\n",
       "<style scoped>\n",
       "    .dataframe tbody tr th:only-of-type {\n",
       "        vertical-align: middle;\n",
       "    }\n",
       "\n",
       "    .dataframe tbody tr th {\n",
       "        vertical-align: top;\n",
       "    }\n",
       "\n",
       "    .dataframe thead th {\n",
       "        text-align: right;\n",
       "    }\n",
       "</style>\n",
       "<table border=\"1\" class=\"dataframe\">\n",
       "  <thead>\n",
       "    <tr style=\"text-align: right;\">\n",
       "      <th></th>\n",
       "      <th>Provincia</th>\n",
       "      <th>Partido</th>\n",
       "      <th>Localidad</th>\n",
       "      <th>Link Indec</th>\n",
       "      <th>Otros</th>\n",
       "      <th>0,256 Mbps</th>\n",
       "      <th>0,5 Mbps</th>\n",
       "      <th>0,512 Mbps</th>\n",
       "      <th>0,75 Mbps</th>\n",
       "      <th>1 Mbps</th>\n",
       "      <th>...</th>\n",
       "      <th>680 Mbps</th>\n",
       "      <th>700 Mbps</th>\n",
       "      <th>800 Mbps</th>\n",
       "      <th>850 Mbps</th>\n",
       "      <th>900 Mbps</th>\n",
       "      <th>999 Mbps</th>\n",
       "      <th>1000 Mbps</th>\n",
       "      <th>1024 Mbps</th>\n",
       "      <th>4000 Mbps</th>\n",
       "      <th>10000 Mbps</th>\n",
       "    </tr>\n",
       "  </thead>\n",
       "  <tbody>\n",
       "    <tr>\n",
       "      <th>0</th>\n",
       "      <td>BUENOS AIRES</td>\n",
       "      <td>25 de Mayo</td>\n",
       "      <td>25 de Mayo</td>\n",
       "      <td>6854100</td>\n",
       "      <td>0.0</td>\n",
       "      <td>0.0</td>\n",
       "      <td>2.0</td>\n",
       "      <td>0.0</td>\n",
       "      <td>19.0</td>\n",
       "      <td>0.0</td>\n",
       "      <td>...</td>\n",
       "      <td>0.0</td>\n",
       "      <td>0.0</td>\n",
       "      <td>0.0</td>\n",
       "      <td>0.0</td>\n",
       "      <td>0.0</td>\n",
       "      <td>0.0</td>\n",
       "      <td>0.0</td>\n",
       "      <td>0.0</td>\n",
       "      <td>0.0</td>\n",
       "      <td>0.0</td>\n",
       "    </tr>\n",
       "    <tr>\n",
       "      <th>1</th>\n",
       "      <td>BUENOS AIRES</td>\n",
       "      <td>25 de Mayo</td>\n",
       "      <td>Agustín Mosconi</td>\n",
       "      <td>6854010</td>\n",
       "      <td>0.0</td>\n",
       "      <td>0.0</td>\n",
       "      <td>0.0</td>\n",
       "      <td>0.0</td>\n",
       "      <td>0.0</td>\n",
       "      <td>0.0</td>\n",
       "      <td>...</td>\n",
       "      <td>0.0</td>\n",
       "      <td>0.0</td>\n",
       "      <td>0.0</td>\n",
       "      <td>0.0</td>\n",
       "      <td>0.0</td>\n",
       "      <td>0.0</td>\n",
       "      <td>0.0</td>\n",
       "      <td>0.0</td>\n",
       "      <td>0.0</td>\n",
       "      <td>0.0</td>\n",
       "    </tr>\n",
       "    <tr>\n",
       "      <th>2</th>\n",
       "      <td>BUENOS AIRES</td>\n",
       "      <td>25 de Mayo</td>\n",
       "      <td>Del Valle</td>\n",
       "      <td>6854020</td>\n",
       "      <td>0.0</td>\n",
       "      <td>0.0</td>\n",
       "      <td>1.0</td>\n",
       "      <td>0.0</td>\n",
       "      <td>0.0</td>\n",
       "      <td>0.0</td>\n",
       "      <td>...</td>\n",
       "      <td>0.0</td>\n",
       "      <td>0.0</td>\n",
       "      <td>0.0</td>\n",
       "      <td>0.0</td>\n",
       "      <td>0.0</td>\n",
       "      <td>0.0</td>\n",
       "      <td>0.0</td>\n",
       "      <td>0.0</td>\n",
       "      <td>0.0</td>\n",
       "      <td>0.0</td>\n",
       "    </tr>\n",
       "    <tr>\n",
       "      <th>3</th>\n",
       "      <td>BUENOS AIRES</td>\n",
       "      <td>25 de Mayo</td>\n",
       "      <td>Ernestina</td>\n",
       "      <td>6854030</td>\n",
       "      <td>0.0</td>\n",
       "      <td>0.0</td>\n",
       "      <td>0.0</td>\n",
       "      <td>0.0</td>\n",
       "      <td>0.0</td>\n",
       "      <td>0.0</td>\n",
       "      <td>...</td>\n",
       "      <td>0.0</td>\n",
       "      <td>0.0</td>\n",
       "      <td>0.0</td>\n",
       "      <td>0.0</td>\n",
       "      <td>0.0</td>\n",
       "      <td>0.0</td>\n",
       "      <td>0.0</td>\n",
       "      <td>0.0</td>\n",
       "      <td>0.0</td>\n",
       "      <td>0.0</td>\n",
       "    </tr>\n",
       "  </tbody>\n",
       "</table>\n",
       "<p>4 rows × 125 columns</p>\n",
       "</div>"
      ],
      "text/plain": [
       "      Provincia     Partido        Localidad Link Indec  Otros  0,256 Mbps  \\\n",
       "0  BUENOS AIRES  25 de Mayo       25 de Mayo    6854100    0.0         0.0   \n",
       "1  BUENOS AIRES  25 de Mayo  Agustín Mosconi    6854010    0.0         0.0   \n",
       "2  BUENOS AIRES  25 de Mayo        Del Valle    6854020    0.0         0.0   \n",
       "3  BUENOS AIRES  25 de Mayo        Ernestina    6854030    0.0         0.0   \n",
       "\n",
       "   0,5 Mbps  0,512 Mbps  0,75 Mbps  1 Mbps  ...  680 Mbps  700 Mbps  800 Mbps  \\\n",
       "0       2.0         0.0       19.0     0.0  ...       0.0       0.0       0.0   \n",
       "1       0.0         0.0        0.0     0.0  ...       0.0       0.0       0.0   \n",
       "2       1.0         0.0        0.0     0.0  ...       0.0       0.0       0.0   \n",
       "3       0.0         0.0        0.0     0.0  ...       0.0       0.0       0.0   \n",
       "\n",
       "   850 Mbps  900 Mbps  999 Mbps  1000 Mbps  1024 Mbps  4000 Mbps  10000 Mbps  \n",
       "0       0.0       0.0       0.0        0.0        0.0        0.0         0.0  \n",
       "1       0.0       0.0       0.0        0.0        0.0        0.0         0.0  \n",
       "2       0.0       0.0       0.0        0.0        0.0        0.0         0.0  \n",
       "3       0.0       0.0       0.0        0.0        0.0        0.0         0.0  \n",
       "\n",
       "[4 rows x 125 columns]"
      ]
     },
     "execution_count": 10,
     "metadata": {},
     "output_type": "execute_result"
    }
   ],
   "source": [
    "df_vel_loc.head(4)"
   ]
  },
  {
   "cell_type": "code",
   "execution_count": 12,
   "metadata": {},
   "outputs": [
    {
     "data": {
      "text/html": [
       "<div>\n",
       "<style scoped>\n",
       "    .dataframe tbody tr th:only-of-type {\n",
       "        vertical-align: middle;\n",
       "    }\n",
       "\n",
       "    .dataframe tbody tr th {\n",
       "        vertical-align: top;\n",
       "    }\n",
       "\n",
       "    .dataframe thead th {\n",
       "        text-align: right;\n",
       "    }\n",
       "</style>\n",
       "<table border=\"1\" class=\"dataframe\">\n",
       "  <thead>\n",
       "    <tr style=\"text-align: right;\">\n",
       "      <th></th>\n",
       "      <th>Provincia</th>\n",
       "      <th>Partido</th>\n",
       "      <th>Localidad</th>\n",
       "      <th>Población</th>\n",
       "      <th>ADSL</th>\n",
       "      <th>Cablemódem</th>\n",
       "      <th>Dial Up</th>\n",
       "      <th>Fibra óptica</th>\n",
       "      <th>Satelital</th>\n",
       "      <th>Wireless</th>\n",
       "      <th>Telefonía Fija</th>\n",
       "      <th>3G</th>\n",
       "      <th>4G</th>\n",
       "      <th>Link</th>\n",
       "      <th>Latitud</th>\n",
       "      <th>Longitud</th>\n",
       "    </tr>\n",
       "  </thead>\n",
       "  <tbody>\n",
       "    <tr>\n",
       "      <th>0</th>\n",
       "      <td>BUENOS AIRES</td>\n",
       "      <td>25 de Mayo</td>\n",
       "      <td>25 de Mayo</td>\n",
       "      <td>23408</td>\n",
       "      <td>SI</td>\n",
       "      <td>SI</td>\n",
       "      <td>--</td>\n",
       "      <td>--</td>\n",
       "      <td>SI</td>\n",
       "      <td>SI</td>\n",
       "      <td>SI</td>\n",
       "      <td>SI</td>\n",
       "      <td>SI</td>\n",
       "      <td>6854100.0</td>\n",
       "      <td>-35.433939</td>\n",
       "      <td>-60.173121</td>\n",
       "    </tr>\n",
       "    <tr>\n",
       "      <th>1</th>\n",
       "      <td>BUENOS AIRES</td>\n",
       "      <td>25 de Mayo</td>\n",
       "      <td>Agustín Mosconi</td>\n",
       "      <td>280</td>\n",
       "      <td>--</td>\n",
       "      <td>--</td>\n",
       "      <td>--</td>\n",
       "      <td>--</td>\n",
       "      <td>--</td>\n",
       "      <td>--</td>\n",
       "      <td>SI</td>\n",
       "      <td>--</td>\n",
       "      <td>--</td>\n",
       "      <td>6854010.0</td>\n",
       "      <td>-35.739217</td>\n",
       "      <td>-60.559063</td>\n",
       "    </tr>\n",
       "    <tr>\n",
       "      <th>2</th>\n",
       "      <td>BUENOS AIRES</td>\n",
       "      <td>25 de Mayo</td>\n",
       "      <td>Del Valle</td>\n",
       "      <td>899</td>\n",
       "      <td>SI</td>\n",
       "      <td>--</td>\n",
       "      <td>--</td>\n",
       "      <td>--</td>\n",
       "      <td>SI</td>\n",
       "      <td>--</td>\n",
       "      <td>--</td>\n",
       "      <td>SI</td>\n",
       "      <td>--</td>\n",
       "      <td>6854020.0</td>\n",
       "      <td>-35.897345</td>\n",
       "      <td>-60.731609</td>\n",
       "    </tr>\n",
       "    <tr>\n",
       "      <th>3</th>\n",
       "      <td>BUENOS AIRES</td>\n",
       "      <td>25 de Mayo</td>\n",
       "      <td>Ernestina</td>\n",
       "      <td>145</td>\n",
       "      <td>SI</td>\n",
       "      <td>--</td>\n",
       "      <td>--</td>\n",
       "      <td>--</td>\n",
       "      <td>--</td>\n",
       "      <td>--</td>\n",
       "      <td>SI</td>\n",
       "      <td>--</td>\n",
       "      <td>--</td>\n",
       "      <td>6854030.0</td>\n",
       "      <td>-35.270234</td>\n",
       "      <td>-59.557503</td>\n",
       "    </tr>\n",
       "  </tbody>\n",
       "</table>\n",
       "</div>"
      ],
      "text/plain": [
       "      Provincia     Partido        Localidad  Población ADSL Cablemódem  \\\n",
       "0  BUENOS AIRES  25 de Mayo       25 de Mayo      23408   SI         SI   \n",
       "1  BUENOS AIRES  25 de Mayo  Agustín Mosconi        280   --         --   \n",
       "2  BUENOS AIRES  25 de Mayo        Del Valle        899   SI         --   \n",
       "3  BUENOS AIRES  25 de Mayo        Ernestina        145   SI         --   \n",
       "\n",
       "  Dial Up Fibra óptica Satelital Wireless Telefonía Fija  3G  4G       Link  \\\n",
       "0      --           --        SI       SI             SI  SI  SI  6854100.0   \n",
       "1      --           --        --       --             SI  --  --  6854010.0   \n",
       "2      --           --        SI       --             --  SI  --  6854020.0   \n",
       "3      --           --        --       --             SI  --  --  6854030.0   \n",
       "\n",
       "     Latitud   Longitud  \n",
       "0 -35.433939 -60.173121  \n",
       "1 -35.739217 -60.559063  \n",
       "2 -35.897345 -60.731609  \n",
       "3 -35.270234 -59.557503  "
      ]
     },
     "execution_count": 12,
     "metadata": {},
     "output_type": "execute_result"
    }
   ],
   "source": [
    "df_mapa.head(4)"
   ]
  },
  {
   "cell_type": "code",
   "execution_count": 14,
   "metadata": {},
   "outputs": [
    {
     "name": "stdout",
     "output_type": "stream",
     "text": [
      "(3072, 13)\n",
      "Index(['Provincia', 'Partido', 'Localidad', 'Link Indec', 'ADSL', 'CABLEMODEM',\n",
      "       'DIAL UP', 'FIBRA OPTICA', 'OTROS', 'SATELITAL', 'WIMAX', 'WIRELESS',\n",
      "       'Total general'],\n",
      "      dtype='object')\n",
      "(3065, 125)\n",
      "Index(['Provincia', 'Partido', 'Localidad', 'Link Indec', 'Otros',\n",
      "       '0,256 Mbps', '0,5 Mbps', '0,512 Mbps', '0,75 Mbps', '1 Mbps',\n",
      "       ...\n",
      "       '680 Mbps', '700 Mbps', '800 Mbps', '850 Mbps', '900 Mbps', '999 Mbps',\n",
      "       '1000 Mbps', '1024 Mbps', '4000 Mbps', '10000 Mbps'],\n",
      "      dtype='object', length=125)\n",
      "(4305, 16)\n",
      "Index(['Provincia', 'Partido', 'Localidad', 'Población', 'ADSL', 'Cablemódem',\n",
      "       'Dial Up', 'Fibra óptica', 'Satelital', 'Wireless', 'Telefonía Fija',\n",
      "       '3G', '4G', 'Link', 'Latitud', 'Longitud'],\n",
      "      dtype='object')\n"
     ]
    }
   ],
   "source": [
    "# DF_tec_loc\n",
    "print(df_tec_loc.shape)\n",
    "print(df_tec_loc.columns)\n",
    "\n",
    "# df_vel_loc\n",
    "print(df_vel_loc.shape)\n",
    "print(df_vel_loc.columns)\n",
    "\n",
    "print(df_mapa.shape)\n",
    "print(df_mapa.columns)"
   ]
  },
  {
   "cell_type": "code",
   "execution_count": 20,
   "metadata": {},
   "outputs": [],
   "source": [
    "# Importamos librerias \n",
    "import pymysql\n",
    "import mysql.connector\n",
    "from mysql.connector import Error\n",
    "from sqlalchemy import create_engine"
   ]
  },
  {
   "cell_type": "code",
   "execution_count": 16,
   "metadata": {},
   "outputs": [],
   "source": [
    "# Conectamos la base de datos \n",
    "def DB_connection(host_name, user_name, user_pass, db_name):\n",
    "    connection = None\n",
    "    try:\n",
    "        connection = mysql.connector.connect(\n",
    "            host = host_name,\n",
    "            user = user_name,\n",
    "            passwd = user_pass,\n",
    "            database = db_name            \n",
    "        )\n",
    "        print(\"MYSQL DATABASE connection succesful\")\n",
    "    except Error as err:\n",
    "        print(f\"Error: '{err}'\")\n",
    "    return connection\n",
    "\n",
    "# Contrasena:\n",
    "pw = \"root1234\"\n",
    "# Database name\n",
    "db_name = \"PI_DA\""
   ]
  },
  {
   "cell_type": "code",
   "execution_count": 17,
   "metadata": {},
   "outputs": [
    {
     "name": "stdout",
     "output_type": "stream",
     "text": [
      "MYSQL DATABASE connection succesful\n"
     ]
    }
   ],
   "source": [
    "connection = DB_connection(\"localhost\", \"root\", pw, db_name)"
   ]
  },
  {
   "cell_type": "code",
   "execution_count": 18,
   "metadata": {},
   "outputs": [
    {
     "name": "stdout",
     "output_type": "stream",
     "text": [
      "Conectado a la base de datos: pi_da\n"
     ]
    }
   ],
   "source": [
    "# Opcional: Verificar la conexión realizando una consulta simple\n",
    "if connection:\n",
    "    cursor = connection.cursor()\n",
    "    cursor.execute(\"SELECT DATABASE()\")\n",
    "    db = cursor.fetchone()\n",
    "    print(f\"Conectado a la base de datos: {db[0]}\")\n",
    "\n",
    "    # Cerrar la conexión\n",
    "    cursor.close()\n",
    "    connection.close()"
   ]
  },
  {
   "cell_type": "code",
   "execution_count": 19,
   "metadata": {},
   "outputs": [],
   "source": [
    "# Vamos a utilizar esta funcion para correr queries\n",
    "def execute_query(connection, query):\n",
    "    cursor = connection.cursor()\n",
    "    try: \n",
    "        cursor.execute(query)\n",
    "        connection.commit()\n",
    "        print(\"Query hecha con éxito\")\n",
    "    except Error as err:\n",
    "        print(\"Error\", err)"
   ]
  },
  {
   "cell_type": "code",
   "execution_count": 21,
   "metadata": {},
   "outputs": [],
   "source": [
    "# Crear el engine de SQLAlchemy usando la conexión MySQL\n",
    "def create_sqlalchemy_engine(host_name, user_name, user_pass, db_name):\n",
    "    url = f\"mysql+mysqlconnector://{user_name}:{user_pass}@{host_name}/{db_name}\"\n",
    "    return create_engine(url)"
   ]
  },
  {
   "cell_type": "code",
   "execution_count": 22,
   "metadata": {},
   "outputs": [],
   "source": [
    "# Crear el engine\n",
    "engine = create_sqlalchemy_engine(\"localhost\", \"root\", pw, db_name)"
   ]
  },
  {
   "cell_type": "code",
   "execution_count": 23,
   "metadata": {},
   "outputs": [
    {
     "data": {
      "text/plain": [
       "-1"
      ]
     },
     "execution_count": 23,
     "metadata": {},
     "output_type": "execute_result"
    }
   ],
   "source": [
    "# Insertamos el df_tec_loc en la tabla de SQL \n",
    "df_tec_loc.to_sql(name= 'tecnologia_localidad', con= engine, if_exists='replace', index=False)"
   ]
  },
  {
   "cell_type": "code",
   "execution_count": 24,
   "metadata": {},
   "outputs": [
    {
     "data": {
      "text/plain": [
       "-1"
      ]
     },
     "execution_count": 24,
     "metadata": {},
     "output_type": "execute_result"
    }
   ],
   "source": [
    "# Insertar el df_vel_loc en la tabla de SQL\n",
    "df_vel_loc.to_sql(name= 'velocidad_localidad', con= engine, if_exists='replace', index=False)"
   ]
  },
  {
   "cell_type": "code",
   "execution_count": 25,
   "metadata": {},
   "outputs": [
    {
     "data": {
      "text/plain": [
       "-1"
      ]
     },
     "execution_count": 25,
     "metadata": {},
     "output_type": "execute_result"
    }
   ],
   "source": [
    "# Insertar el df_mapa en la tabla del SQL\n",
    "df_mapa.to_sql(name= 'mapa_conectividad', con= engine, if_exists='replace', index=False)"
   ]
  },
  {
   "cell_type": "code",
   "execution_count": 26,
   "metadata": {},
   "outputs": [
    {
     "data": {
      "text/plain": [
       "-1"
      ]
     },
     "execution_count": 26,
     "metadata": {},
     "output_type": "execute_result"
    }
   ],
   "source": [
    "# velocidad del internet en la tabla de SQL\n",
    "df_vel_internet.to_sql(name= 'velocidad_internet', con= engine, if_exists='replace', index=False)\n"
   ]
  },
  {
   "cell_type": "code",
   "execution_count": 37,
   "metadata": {},
   "outputs": [
    {
     "name": "stdout",
     "output_type": "stream",
     "text": [
      "<class 'pandas.core.frame.DataFrame'>\n",
      "RangeIndex: 984 entries, 0 to 983\n",
      "Data columns (total 24 columns):\n",
      " #   Column                        Non-Null Count  Dtype  \n",
      "---  ------                        --------------  -----  \n",
      " 0   Año                           984 non-null    int64  \n",
      " 1   Trimestre                     984 non-null    int64  \n",
      " 2   Provincia                     984 non-null    object \n",
      " 3   ADSL                          984 non-null    float64\n",
      " 4   Cablemodem                    984 non-null    float64\n",
      " 5   Fibra óptica                  984 non-null    float64\n",
      " 6   Wireless                      984 non-null    float64\n",
      " 7   Otros                         984 non-null    float64\n",
      " 8   total_acc_tec                 984 non-null    float64\n",
      " 9   HASTA 512 kbps                984 non-null    float64\n",
      " 10  + 512 Kbps - 1 Mbps           984 non-null    float64\n",
      " 11  + 1 Mbps - 6 Mbps             984 non-null    float64\n",
      " 12  + 6 Mbps - 10 Mbps            984 non-null    float64\n",
      " 13  + 10 Mbps - 20 Mbps           984 non-null    float64\n",
      " 14  + 20 Mbps - 30 Mbps           984 non-null    float64\n",
      " 15  + 30 Mbps                     984 non-null    float64\n",
      " 16  OTROS                         984 non-null    float64\n",
      " 17  total_acc_vel                 984 non-null    float64\n",
      " 18  Mbps (Media de bajada)        984 non-null    float64\n",
      " 19  Banda ancha fija              984 non-null    int64  \n",
      " 20  Dial up                       984 non-null    float64\n",
      " 21  total_dial_BAf                984 non-null    int64  \n",
      " 22  Accesos por cada 100 hab      984 non-null    float64\n",
      " 23  Accesos por cada 100 hogares  984 non-null    float64\n",
      "dtypes: float64(19), int64(4), object(1)\n",
      "memory usage: 184.6+ KB\n"
     ]
    }
   ],
   "source": [
    "df_prov.info()"
   ]
  },
  {
   "cell_type": "code",
   "execution_count": 49,
   "metadata": {},
   "outputs": [
    {
     "data": {
      "text/plain": [
       "Index(['Año', 'Trimestre', 'Provincia', 'ADSL', 'Cablemodem', 'Fibra óptica',\n",
       "       'Wireless', 'Otros', 'total_acc_tec', 'HASTA 512 kbps',\n",
       "       '+ 512 Kbps - 1 Mbps', '+ 1 Mbps - 6 Mbps', '+ 6 Mbps - 10 Mbps',\n",
       "       '+ 10 Mbps - 20 Mbps', '+ 20 Mbps - 30 Mbps', '+ 30 Mbps', 'OTROS',\n",
       "       'total_acc_vel', 'Mbps (Media de bajada)', 'Banda ancha fija',\n",
       "       'Dial up', 'total_dial_BAf', 'Accesos por cada 100 hab',\n",
       "       'Accesos por cada 100 hogares'],\n",
       "      dtype='object')"
      ]
     },
     "execution_count": 49,
     "metadata": {},
     "output_type": "execute_result"
    }
   ],
   "source": [
    "df_prov.columns"
   ]
  },
  {
   "cell_type": "code",
   "execution_count": 55,
   "metadata": {},
   "outputs": [],
   "source": [
    "df_prov.rename(columns={'OTROS' : 'Otros_velocidad'}, inplace=True)"
   ]
  },
  {
   "cell_type": "code",
   "execution_count": 56,
   "metadata": {},
   "outputs": [
    {
     "data": {
      "text/plain": [
       "-1"
      ]
     },
     "execution_count": 56,
     "metadata": {},
     "output_type": "execute_result"
    }
   ],
   "source": [
    "# Provincias \n",
    "df_prov.to_sql(name= 'provincias', con= engine, if_exists='append', index=False)"
   ]
  },
  {
   "cell_type": "code",
   "execution_count": 50,
   "metadata": {},
   "outputs": [
    {
     "data": {
      "text/plain": [
       "Index(['Año', 'Trimestre', 'Hasta 512 kbps', 'Entre 512 Kbps y 1 Mbps',\n",
       "       'Entre 1 Mbps y 6 Mbps', 'Entre 6 Mbps y 10 Mbps',\n",
       "       'Entre 10 Mbps y 20 Mbps', 'Entre 20 Mbps y 30 Mbps', 'Más de 30 Mbps',\n",
       "       'OTROS', 'total_acc_vel', 'Banda ancha fija', 'Dial up',\n",
       "       'total_dial_BAf', 'ADSL', 'Cablemodem', 'Fibra óptica', 'Wireless',\n",
       "       'Otros', 'total_acc_tec', 'Accesos por cada 100 hogares',\n",
       "       'Accesos por cada 100 hab', 'Periodo', 'Mbps (Media de bajada)',\n",
       "       'Ingresos (miles de pesos)'],\n",
       "      dtype='object')"
      ]
     },
     "execution_count": 50,
     "metadata": {},
     "output_type": "execute_result"
    }
   ],
   "source": [
    "df_total.columns"
   ]
  },
  {
   "cell_type": "code",
   "execution_count": 51,
   "metadata": {},
   "outputs": [],
   "source": [
    "df_total.rename(columns={'OTROS' : 'Otros_velocidad'}, inplace=True)"
   ]
  },
  {
   "cell_type": "code",
   "execution_count": 54,
   "metadata": {},
   "outputs": [
    {
     "name": "stderr",
     "output_type": "stream",
     "text": [
      "C:\\Users\\DELL\\AppData\\Local\\Temp\\ipykernel_3288\\4194718545.py:1: UserWarning: The provided table name 'Internet_pais' is not found exactly as such in the database after writing the table, possibly due to case sensitivity issues. Consider using lower case table names.\n",
      "  df_total.to_sql(name= 'Internet_pais', con= engine, if_exists='append', index=False)\n"
     ]
    },
    {
     "data": {
      "text/plain": [
       "-1"
      ]
     },
     "execution_count": 54,
     "metadata": {},
     "output_type": "execute_result"
    }
   ],
   "source": [
    "df_total.to_sql(name= 'Internet_pais', con= engine, if_exists='append', index=False)"
   ]
  },
  {
   "cell_type": "markdown",
   "metadata": {},
   "source": [
    "## TRABAJO CUMPLIDO, AHORA VAMOS A CONECTARLO CON POWER BI"
   ]
  }
 ],
 "metadata": {
  "kernelspec": {
   "display_name": "Python 3",
   "language": "python",
   "name": "python3"
  },
  "language_info": {
   "codemirror_mode": {
    "name": "ipython",
    "version": 3
   },
   "file_extension": ".py",
   "mimetype": "text/x-python",
   "name": "python",
   "nbconvert_exporter": "python",
   "pygments_lexer": "ipython3",
   "version": "3.11.9"
  }
 },
 "nbformat": 4,
 "nbformat_minor": 2
}
